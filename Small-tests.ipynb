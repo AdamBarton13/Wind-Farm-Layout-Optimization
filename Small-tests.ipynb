{
 "cells": [
  {
   "cell_type": "code",
   "execution_count": 15,
   "id": "7d112304",
   "metadata": {},
   "outputs": [
    {
     "name": "stdout",
     "output_type": "stream",
     "text": [
      "<class 'numpy.ndarray'>\n",
      "[1 2 3]\n",
      "<class 'numpy.ndarray'>\n",
      "[[1 2 3]\n",
      " [1 2 3]]\n"
     ]
    }
   ],
   "source": [
    "## This block will contain testing of numoy arrays, and how to concatenate these effectively\n",
    "import numpy as np\n",
    "small_array = np.array([1,2,3])\n",
    "print(type(small_array))\n",
    "print(small_array)\n",
    "#np.append(small_array,small_array,axis=0)\n",
    "stacked_array = np.vstack((small_array,small_array))\n",
    "print(type(stacked_array))\n",
    "print(stacked_array)\n",
    "\n",
    "## It seems that using np.vstack is useful for this "
   ]
  },
  {
   "cell_type": "code",
   "execution_count": null,
   "id": "7348db31",
   "metadata": {},
   "outputs": [],
   "source": []
  }
 ],
 "metadata": {
  "kernelspec": {
   "display_name": "Python 3",
   "language": "python",
   "name": "python3"
  },
  "language_info": {
   "codemirror_mode": {
    "name": "ipython",
    "version": 3
   },
   "file_extension": ".py",
   "mimetype": "text/x-python",
   "name": "python",
   "nbconvert_exporter": "python",
   "pygments_lexer": "ipython3",
   "version": "3.8.8"
  }
 },
 "nbformat": 4,
 "nbformat_minor": 5
}
